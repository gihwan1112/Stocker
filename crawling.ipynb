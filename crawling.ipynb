{
 "cells": [
  {
   "cell_type": "code",
   "execution_count": null,
   "metadata": {},
   "outputs": [],
   "source": [
    "\n",
    "import requests\n",
    "from bs4 import BeautifulSoup\n",
    "import pandas as pd"
   ]
  },
  {
   "cell_type": "code",
   "execution_count": 4,
   "metadata": {},
   "outputs": [],
   "source": [
    "# 삼성전자 코드\n",
    "code = '005930'\n",
    "headers = {'User-Agent': 'Mozilla/5.0'}\n",
    "\n",
    "# 수집할 날짜 범위\n",
    "target_dates = pd.to_datetime(['2025.04.21', '2025.04.22', '2025.04.23', '2025.04.24', '2025.04.25'])\n",
    "\n",
    "# 데이터를 저장할 리스트\n",
    "data = []\n",
    "\n",
    "# 1~3페이지 돌면서 데이터 수집\n",
    "for page in range(1, 4):\n",
    "    url = f\"https://finance.naver.com/item/sise_day.nhn?code={code}&page={page}\"\n",
    "    res = requests.get(url, headers=headers)\n",
    "    soup = BeautifulSoup(res.text, 'html.parser')\n",
    "    \n",
    "    table = soup.find('table', class_='type2')\n",
    "    rows = table.find_all('tr')\n",
    "    \n",
    "    for row in rows:\n",
    "        cols = row.find_all('td')\n",
    "        if len(cols) >= 6:\n",
    "            date = cols[0].get_text(strip=True)\n",
    "            close_price = cols[1].get_text(strip=True).replace(',', '')\n",
    "            volume = cols[6].get_text(strip=True).replace(',', '')\n",
    "            \n",
    "            if date in target_dates:\n",
    "                data.append({\n",
    "                    '날짜': date,\n",
    "                    '종가': int(close_price),\n",
    "                    '거래량': int(volume)\n",
    "                })\n",
    "\n"
   ]
  },
  {
   "cell_type": "code",
   "execution_count": 5,
   "metadata": {},
   "outputs": [
    {
     "name": "stdout",
     "output_type": "stream",
     "text": [
      "           날짜     종가       거래량  변동률(%)\n",
      "0  2025.04.21  55400   5941847    0.00\n",
      "1  2025.04.22  55000   9532469   -0.72\n",
      "2  2025.04.23  55700  11148692    1.27\n",
      "3  2025.04.24  55700  10580377    0.00\n",
      "4  2025.04.25  55700  12183303    0.00\n"
     ]
    }
   ],
   "source": [
    "\n",
    "\n",
    "\n",
    "# 데이터프레임으로 변환\n",
    "df = pd.DataFrame(data).drop_duplicates(subset='날짜')\n",
    "df = df.sort_values('날짜').reset_index(drop=True)\n",
    "\n",
    "# 전일 종가 추가 (shift 사용)\n",
    "df['전일종가'] = df['종가'].shift(1)\n",
    "\n",
    "# 변동률 계산\n",
    "df['변동률(%)'] = ((df['종가'] - df['전일종가']) / df['전일종가']) * 100\n",
    "df['변동률(%)'] = df['변동률(%)'].fillna(0)  # 첫 행은 0으로\n",
    "\n",
    "# 전일종가 컬럼 삭제 (표시 안 하고 싶으면)\n",
    "df = df.drop(columns=['전일종가'])\n",
    "\n",
    "# 소수점 둘째자리까지만 반올림\n",
    "df['변동률(%)'] = df['변동률(%)'].round(2)\n",
    "\n",
    "# 결과 출력\n",
    "print(df)\n",
    "\n",
    "# CSV 저장\n",
    "df.to_csv('samsung_stock_final.csv', index=False, encoding='utf-8-sig')\n"
   ]
  }
 ],
 "metadata": {
  "kernelspec": {
   "display_name": "Python 3",
   "language": "python",
   "name": "python3"
  },
  "language_info": {
   "codemirror_mode": {
    "name": "ipython",
    "version": 3
   },
   "file_extension": ".py",
   "mimetype": "text/x-python",
   "name": "python",
   "nbconvert_exporter": "python",
   "pygments_lexer": "ipython3",
   "version": "3.12.8"
  }
 },
 "nbformat": 4,
 "nbformat_minor": 2
}
