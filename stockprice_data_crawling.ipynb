{
 "cells": [
  {
   "cell_type": "code",
   "execution_count": 1,
   "metadata": {},
   "outputs": [],
   "source": [
    "\n",
    "import requests\n",
    "from bs4 import BeautifulSoup\n",
    "import pandas as pd"
   ]
  },
  {
   "cell_type": "code",
   "execution_count": 2,
   "metadata": {},
   "outputs": [],
   "source": [
    "\n",
    "# 삼성전자 코드\n",
    "code = '005930'\n",
    "headers = {'User-Agent': 'Mozilla/5.0'}\n",
    "\n",
    "# 수집할 날짜 범위\n",
    "start_date = pd.to_datetime('2023-03-01')\n",
    "end_date = pd.to_datetime('2024-02-28')\n",
    "\n",
    "#모든 DataFrame을 출력할 수 있도록 설정\n",
    "pd.set_option('display.max_rows', None)\n",
    "pd.set_option('display.max_columns', None)\n",
    "\n",
    "# 데이터를 저장할 리스트\n",
    "data = []\n",
    "\n",
    "# 여러 페이지 돌면서 데이터 수집\n",
    "for page in range(1, 70):  # 페이지 수를 넉넉히 설정 (필요시 조정)\n",
    "    url = f\"https://finance.naver.com/item/sise_day.nhn?code={code}&page={page}\"\n",
    "    res = requests.get(url, headers=headers)\n",
    "    soup = BeautifulSoup(res.text, 'html.parser')\n",
    "    \n",
    "    table = soup.find('table', class_='type2')\n",
    "    rows = table.find_all('tr')\n",
    "    \n",
    "    for row in rows:\n",
    "        cols = row.find_all('td')\n",
    "        if len(cols) >= 6:\n",
    "            date_str = cols[0].get_text(strip=True)\n",
    "            if not date_str:\n",
    "                continue  # 빈 줄 건너뛰기\n",
    "            \n",
    "            date = pd.to_datetime(date_str, format='%Y.%m.%d')\n",
    "            close_price = cols[1].get_text(strip=True).replace(',', '')\n",
    "            volume = cols[6].get_text(strip=True).replace(',', '')\n",
    "            \n",
    "            # 날짜가 범위 안에 있는지 확인\n",
    "            if start_date <= date <= end_date:\n",
    "                data.append({\n",
    "                    '날짜': date.strftime('%Y.%m.%d'),\n",
    "                    '종가': int(close_price),\n",
    "                    '거래량': int(volume)\n",
    "                })\n",
    "            elif date < start_date:\n",
    "                break  # 시작 날짜보다 과거 데이터면 중단"
   ]
  },
  {
   "cell_type": "code",
   "execution_count": null,
   "metadata": {},
   "outputs": [
    {
     "name": "stdout",
     "output_type": "stream",
     "text": [
      "상승 여부\n",
      "0    128\n",
      "1    117\n",
      "Name: count, dtype: int64\n"
     ]
    }
   ],
   "source": [
    "# 데이터프레임으로 변환\n",
    "df = pd.DataFrame(data).drop_duplicates(subset='날짜')\n",
    "df = df.sort_values('날짜').reset_index(drop=True)\n",
    "\n",
    "# 전일 종가 추가 (shift 사용)\n",
    "df['전일종가'] = df['종가'].shift(1)\n",
    "\n",
    "# 변동률 계산\n",
    "df['변동률(%)'] = ((df['종가'] - df['전일종가']) / df['전일종가']) * 100\n",
    "df['변동률(%)'] = df['변동률(%)'].fillna(0)  # 첫 행은 0으로\n",
    "\n",
    "# 전일종가 컬럼 삭제\n",
    "df = df.drop(columns=['전일종가'])\n",
    "\n",
    "# 소수점 둘째자리까지만 반올림\n",
    "df['변동률(%)'] = df['변동률(%)'].round(2)\n",
    "\n",
    "# 상승/하락 여부 라벨링 (0/1)\n",
    "df['상승 여부'] = (df['변동률(%)'] > 0).astype(int)\n",
    "print(df['상승 여부'].value_counts())\n",
    "\n",
    "# 결과 출력 \n",
    "print(df)\n",
    "\n",
    "# CSV 저장\n",
    "df.to_csv('samsung_stock_20230301_20240228.csv', index=False, encoding='utf-8-sig')"
   ]
  }
 ],
 "metadata": {
  "kernelspec": {
   "display_name": "Python 3",
   "language": "python",
   "name": "python3"
  },
  "language_info": {
   "codemirror_mode": {
    "name": "ipython",
    "version": 3
   },
   "file_extension": ".py",
   "mimetype": "text/x-python",
   "name": "python",
   "nbconvert_exporter": "python",
   "pygments_lexer": "ipython3",
   "version": "3.12.8"
  }
 },
 "nbformat": 4,
 "nbformat_minor": 2
}
