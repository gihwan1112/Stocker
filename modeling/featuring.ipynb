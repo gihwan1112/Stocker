{
 "cells": [
  {
   "cell_type": "code",
   "execution_count": 9,
   "id": "6d48906a",
   "metadata": {},
   "outputs": [],
   "source": [
    "import pandas as pd\n",
    "import numpy as np\n",
    "from sklearn.model_selection import train_test_split\n",
    "from sklearn.ensemble import RandomForestRegressor, GradientBoostingRegressor\n",
    "from xgboost import XGBRegressor\n",
    "from sklearn.model_selection import TimeSeriesSplit, cross_val_score, GridSearchCV\n",
    "from sklearn.metrics import make_scorer, mean_squared_error, r2_score"
   ]
  },
  {
   "cell_type": "code",
   "execution_count": 7,
   "id": "c999c8e3",
   "metadata": {},
   "outputs": [
    {
     "name": "stdout",
     "output_type": "stream",
     "text": [
      "모델\t\tMSE\t\tR²\n",
      "RandomForest      2.0703\t -0.1220\n",
      "GradientBoosting  2.4507\t -0.3282\n",
      "XGBoost           2.2560\t -0.2226\n"
     ]
    },
    {
     "name": "stderr",
     "output_type": "stream",
     "text": [
      "C:\\Users\\gihwa\\AppData\\Roaming\\Python\\Python312\\site-packages\\xgboost\\training.py:183: UserWarning: [03:43:38] WARNING: C:\\actions-runner\\_work\\xgboost\\xgboost\\src\\learner.cc:738: \n",
      "Parameters: { \"use_label_encoder\" } are not used.\n",
      "\n",
      "  bst.update(dtrain, iteration=i, fobj=obj)\n"
     ]
    }
   ],
   "source": [
    "# 1. 데이터 불러오기 및 정렬\n",
    "df = pd.read_csv(\"C:/Stocker_Project/Stocker/data/data_preprocessing.csv\", parse_dates=[\"날짜\"])\n",
    "\n",
    "# 2. 피처 엔지니어링\n",
    "df[\"전일_감성점수\"]   = df[\"감성점수\"].shift(1)\n",
    "df[\"전일_변동률\"]     = df[\"변동률(%)\"].shift(1)\n",
    "df[\"전일_상승여부\"]   = df[\"상승 여부\"].shift(1)       # 전일 상승 여부\n",
    "df[\"5일_이동평균\"]    = df[\"종가\"].rolling(window=5).mean().shift(1)\n",
    "df[\"거래량_변화율\"]   = df[\"거래량\"].pct_change().shift(1).round(3)\n",
    "\n",
    "# 3. 결측치 제거\n",
    "df.dropna(inplace=True)\n",
    "\n",
    "\n",
    "# 4. 피처(X)와 타깃(y) 설정\n",
    "X = df[[\"전일_감성점수\", \"전일_상승여부\", \"5일_이동평균\", \"거래량_변화율\"]]\n",
    "y = df[\"변동률(%)\"]\n",
    "\n",
    "# 5. 시계열 분할 (과거→최근 80:20)\n",
    "X_train, X_test, y_train, y_test = train_test_split(\n",
    "    X, y, test_size=0.2, shuffle=False\n",
    ")\n",
    "\n",
    "# 6. 모델 정의\n",
    "models = {\n",
    "    \"RandomForest\": RandomForestRegressor(random_state=42),\n",
    "    \"GradientBoosting\": GradientBoostingRegressor(random_state=42),\n",
    "    \"XGBoost\": XGBRegressor(\n",
    "        random_state=42,\n",
    "        use_label_encoder=False,\n",
    "        eval_metric=\"rmse\"\n",
    "    )\n",
    "}\n",
    "\n",
    "# 7. 학습 & 평가\n",
    "results = {}\n",
    "for name, model in models.items():\n",
    "    model.fit(X_train, y_train)\n",
    "    y_pred = model.predict(X_test)\n",
    "    mse = mean_squared_error(y_test, y_pred)\n",
    "    r2  = r2_score(y_test, y_pred)\n",
    "    results[name] = (mse, r2)\n",
    "\n",
    "# 8. 결과 출력\n",
    "print(\"모델\\t\\tMSE\\t\\tR²\")\n",
    "for name, (mse, r2) in results.items():\n",
    "    print(f\"{name:16s}{mse:8.4f}\\t{r2:8.4f}\")\n"
   ]
  }
 ],
 "metadata": {
  "kernelspec": {
   "display_name": "Python 3",
   "language": "python",
   "name": "python3"
  },
  "language_info": {
   "codemirror_mode": {
    "name": "ipython",
    "version": 3
   },
   "file_extension": ".py",
   "mimetype": "text/x-python",
   "name": "python",
   "nbconvert_exporter": "python",
   "pygments_lexer": "ipython3",
   "version": "3.12.8"
  }
 },
 "nbformat": 4,
 "nbformat_minor": 5
}
