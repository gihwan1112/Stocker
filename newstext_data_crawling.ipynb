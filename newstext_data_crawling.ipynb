{
 "cells": [
  {
   "cell_type": "code",
   "execution_count": null,
   "id": "925e37b6",
   "metadata": {},
   "outputs": [
    {
     "ename": "ModuleNotFoundError",
     "evalue": "No module named 'selenium'",
     "output_type": "error",
     "traceback": [
      "\u001b[31m---------------------------------------------------------------------------\u001b[39m",
      "\u001b[31mModuleNotFoundError\u001b[39m                       Traceback (most recent call last)",
      "\u001b[36mCell\u001b[39m\u001b[36m \u001b[39m\u001b[32mIn[4]\u001b[39m\u001b[32m, line 1\u001b[39m\n\u001b[32m----> \u001b[39m\u001b[32m1\u001b[39m \u001b[38;5;28;01mfrom\u001b[39;00m\u001b[38;5;250m \u001b[39m\u001b[34;01mselenium\u001b[39;00m\u001b[38;5;250m \u001b[39m\u001b[38;5;28;01mimport\u001b[39;00m webdriver\n\u001b[32m      2\u001b[39m \u001b[38;5;28;01mfrom\u001b[39;00m\u001b[38;5;250m \u001b[39m\u001b[34;01mselenium\u001b[39;00m\u001b[34;01m.\u001b[39;00m\u001b[34;01mwebdriver\u001b[39;00m\u001b[34;01m.\u001b[39;00m\u001b[34;01mcommon\u001b[39;00m\u001b[34;01m.\u001b[39;00m\u001b[34;01mby\u001b[39;00m\u001b[38;5;250m \u001b[39m\u001b[38;5;28;01mimport\u001b[39;00m By\n\u001b[32m      3\u001b[39m \u001b[38;5;28;01mfrom\u001b[39;00m\u001b[38;5;250m \u001b[39m\u001b[34;01mselenium\u001b[39;00m\u001b[34;01m.\u001b[39;00m\u001b[34;01mwebdriver\u001b[39;00m\u001b[34;01m.\u001b[39;00m\u001b[34;01mchrome\u001b[39;00m\u001b[34;01m.\u001b[39;00m\u001b[34;01mservice\u001b[39;00m\u001b[38;5;250m \u001b[39m\u001b[38;5;28;01mimport\u001b[39;00m Service\n",
      "\u001b[31mModuleNotFoundError\u001b[39m: No module named 'selenium'"
     ]
    }
   ],
   "source": [
    "from selenium import webdriver\n",
    "from selenium.webdriver.common.by import By\n",
    "from selenium.webdriver.chrome.service import Service\n",
    "from selenium.webdriver.chrome.options import Options\n",
    "from webdriver_manager.chrome import ChromeDriverManager\n",
    "from datetime import datetime, timedelta\n",
    "import pandas as pd\n",
    "import time\n",
    "\n",
    "# 크롬 옵션 설정\n",
    "options = Options()\n",
    "options.add_argument('--headless')  # 브라우저 창 안 띄움 (테스트용)\n",
    "options.add_argument('--no-sandbox')\n",
    "options.add_argument('--disable-dev-shm-usage')"
   ]
  },
  {
   "cell_type": "code",
   "execution_count": null,
   "id": "7fbaca85",
   "metadata": {},
   "outputs": [
    {
     "name": "stdout",
     "output_type": "stream",
     "text": [
      "Empty DataFrame\n",
      "Columns: []\n",
      "Index: []\n",
      "총 0건의 뉴스가 수집되었습니다.\n"
     ]
    }
   ],
   "source": [
    "# 드라이버 실행\n",
    "driver = webdriver.Chrome(service=Service(ChromeDriverManager().install()), options=options)\n",
    "\n",
    "# 날짜 범위 설정\n",
    "start_date = pd.to_datetime('2023-03-01')\n",
    "end_date = pd.to_datetime('2024-02-28')\n",
    "\n",
    "# 결과 저장 리스트\n",
    "data = []\n",
    "\n",
    "# User-Agent 설정\n",
    "headers = {\n",
    "    'User-Agent': 'Mozilla/5.0 (Windows NT 10.0; Win64; x64) AppleWebKit/537.36 (KHTML, like Gecko) Chrome/123.0.0.0 Safari/537.36'\n",
    "}\n",
    "\n",
    "# 날짜 루프\n",
    "date = start_date\n",
    "while date <= end_date:\n",
    "    date_str = date.strftime('%Y%m%d')\n",
    "    url = f'https://news.naver.com/main/ranking/popularDay.naver?rankingType=popular_day&sectionId=101&date={date_str}'\n",
    "\n",
    "    try:\n",
    "        res = requests.get(url, headers=headers, timeout=5)\n",
    "        if res.status_code != 200:\n",
    "            print(f\"{date_str} 요청 실패: {res.status_code}\")\n",
    "            date += timedelta(days=1)\n",
    "            continue\n",
    "\n",
    "        soup = BeautifulSoup(res.text, 'html.parser')\n",
    "        # 최근 구조에서는 ranking_list ol 태그 안에 있음\n",
    "        news_list = soup.select('ol.ranking_list li')\n",
    "\n",
    "        for item in news_list:\n",
    "            try:\n",
    "                title = item.select_one('div.ranking_headline').get_text(strip=True)\n",
    "                data.append({\n",
    "                    '날짜': date_str,\n",
    "                    '뉴스제목': title\n",
    "                })\n",
    "            except AttributeError:\n",
    "                continue\n",
    "\n",
    "    except Exception as e:\n",
    "        print(f\"{date_str} 크롤링 중 오류: {e}\")\n",
    "\n",
    "    date += timedelta(days=1)\n",
    "\n",
    "# DataFrame으로 변환\n",
    "df = pd.DataFrame(data)\n",
    "\n",
    "# 결과 확인\n",
    "print(df.head())\n",
    "print(f\"총 {len(df)}건의 뉴스가 수집되었습니다.\")\n",
    "\n",
    "# CSV 저장\n",
    "df.to_csv('naver_news_20230301_20240228.csv', index=False, encoding='utf-8-sig')\n"
   ]
  }
 ],
 "metadata": {
  "kernelspec": {
   "display_name": "Python 3",
   "language": "python",
   "name": "python3"
  },
  "language_info": {
   "codemirror_mode": {
    "name": "ipython",
    "version": 3
   },
   "file_extension": ".py",
   "mimetype": "text/x-python",
   "name": "python",
   "nbconvert_exporter": "python",
   "pygments_lexer": "ipython3",
   "version": "3.12.8"
  }
 },
 "nbformat": 4,
 "nbformat_minor": 5
}
