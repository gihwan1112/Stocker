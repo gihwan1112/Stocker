{
  "cells": [
    {
      "cell_type": "code",
      "execution_count": 1,
      "metadata": {
        "id": "kQQ9X55hwQSo"
      },
      "outputs": [],
      "source": [
        "import pandas as pd\n",
        "import re\n",
        "import torch\n",
        "from transformers import AutoTokenizer, AutoModelForSequenceClassification\n",
        "from tqdm import tqdm\n",
        "tqdm.pandas()\n",
        "device = torch.device(\"cuda\" if torch.cuda.is_available() else \"cpu\")\n"
      ]
    },
    {
      "cell_type": "code",
      "execution_count": null,
      "metadata": {
        "id": "cDEIyXVGwR3Z"
      },
      "outputs": [],
      "source": [
        "df = pd.read_csv('C:/Stocker_Project/Stocker/data/daum_news_samsung_20230301_20240229.csv')\n",
        "df_stock = pd.read_csv('C:/Stocker_Project/Stocker/data/samsung_stock_20230301_20240228.csv')\n",
        "df['date'] = pd.to_datetime(df['날짜']).dt.date\n",
        "\n",
        "# 텍스트 정제 함수\n",
        "def clean_text(text):\n",
        "    text = re.sub(r'[^\\w\\s.,!?%+-]', '', str(text))\n",
        "    text = re.sub(r'\\s+', ' ', text).strip()\n",
        "    return text\n",
        "\n",
        "df['clean_title'] = df['뉴스제목'].apply(clean_text) # 뉴스제목 정제"
      ]
    },
    {
      "cell_type": "code",
      "execution_count": 3,
      "metadata": {
        "id": "6mdDywW4y0yz"
      },
      "outputs": [
        {
          "name": "stdout",
          "output_type": "stream",
          "text": [
            "BertConfig {\n",
            "  \"architectures\": [\n",
            "    \"BertForSequenceClassification\"\n",
            "  ],\n",
            "  \"attention_probs_dropout_prob\": 0.1,\n",
            "  \"classifier_dropout\": null,\n",
            "  \"gradient_checkpointing\": false,\n",
            "  \"hidden_act\": \"gelu\",\n",
            "  \"hidden_dropout_prob\": 0.1,\n",
            "  \"hidden_size\": 768,\n",
            "  \"id2label\": {\n",
            "    \"0\": \"negative\",\n",
            "    \"1\": \"neutral\",\n",
            "    \"2\": \"positive\"\n",
            "  },\n",
            "  \"initializer_range\": 0.02,\n",
            "  \"intermediate_size\": 3072,\n",
            "  \"label2id\": {\n",
            "    \"negative\": 0,\n",
            "    \"neutral\": 1,\n",
            "    \"positive\": 2\n",
            "  },\n",
            "  \"layer_norm_eps\": 1e-12,\n",
            "  \"max_position_embeddings\": 512,\n",
            "  \"model_type\": \"bert\",\n",
            "  \"num_attention_heads\": 12,\n",
            "  \"num_hidden_layers\": 12,\n",
            "  \"pad_token_id\": 0,\n",
            "  \"position_embedding_type\": \"absolute\",\n",
            "  \"problem_type\": \"single_label_classification\",\n",
            "  \"torch_dtype\": \"float32\",\n",
            "  \"transformers_version\": \"4.52.4\",\n",
            "  \"type_vocab_size\": 2,\n",
            "  \"use_cache\": true,\n",
            "  \"vocab_size\": 20000\n",
            "}\n",
            "\n"
          ]
        }
      ],
      "source": [
        "model_name = \"snunlp/KR-FinBERT-SC\" # Finbert 모델 지정\n",
        "tokenizer = AutoTokenizer.from_pretrained(model_name) # 토크나이징\n",
        "model = AutoModelForSequenceClassification.from_pretrained(model_name)\n",
        "print(model.config) # 모델 설정 확인\n",
        "model.to(device) # 모델을 GPU로 이동\n",
        "label_map = {0: 'negative', 1: 'neutral', 2: 'positive'}"
      ]
    },
    {
      "cell_type": "code",
      "execution_count": 4,
      "metadata": {
        "id": "cr_MeWwUwXNj"
      },
      "outputs": [],
      "source": [
        "# 감성 분석 함수\n",
        "def predict_sentiment(text):\n",
        "    inputs = tokenizer(\n",
        "        text, \n",
        "        return_tensors=\"pt\", \n",
        "        truncation=True, \n",
        "        max_length=128, \n",
        "        padding=True\n",
        "    )\n",
        "    outputs = model(**inputs)\n",
        "\n",
        "    probs = torch.nn.functional.softmax(outputs.logits, dim=-1) # 확률값으로 변환\n",
        "    conf, pred_label = torch.max(probs, dim=1)\n",
        "    return label_map[pred_label.item()], conf.item()\n",
        "\n",
        "def get_sentiment_score(text):\n",
        "    if not text.strip():\n",
        "        return 0\n",
        "    label, conf = predict_sentiment(text)\n",
        "\n",
        "    # 긍부정 확률값 반환\n",
        "    if label == 'positive':\n",
        "        return 1 * conf\n",
        "    elif label == 'negative':\n",
        "        return -1 * conf\n",
        "    else:\n",
        "        return 0\n"
      ]
    },
    {
      "cell_type": "code",
      "execution_count": 5,
      "metadata": {
        "id": "uBXio2KjweLH"
      },
      "outputs": [
        {
          "name": "stderr",
          "output_type": "stream",
          "text": [
            "100%|██████████| 18270/18270 [25:25<00:00, 11.97it/s] \n"
          ]
        }
      ],
      "source": [
        "df['sentiment_score'] = df['clean_title'].progress_apply(get_sentiment_score) # 날짜 기준으로 정렬\n",
        "\n",
        "daily_sentiment = df.groupby('날짜').agg(\n",
        "    avg_sentiment=('sentiment_score', 'mean'),\n",
        ").reset_index()"
      ]
    },
    {
      "cell_type": "code",
      "execution_count": 6,
      "metadata": {
        "id": "nqKUOOaewgyr"
      },
      "outputs": [],
      "source": [
        "df_stock.dropna(inplace=True) # 결측치 있는 행 삭제\n",
        "\n",
        "df_stock = df_stock[df_stock['거래량'] > 0] # 거래량 0인 행 삭제\n",
        "\n",
        "df_stock = df_stock.sort_values('날짜')"
      ]
    },
    {
      "cell_type": "code",
      "execution_count": 7,
      "metadata": {
        "id": "LVCXfi82woBq"
      },
      "outputs": [],
      "source": [
        "df_stock = df_stock.loc[:, ~df_stock.columns.duplicated()]\n",
        "\n",
        "# 날짜 형식 변호나 & 시간 정규화\n",
        "daily_sentiment['날짜'] = pd.to_datetime(daily_sentiment['날짜']).dt.normalize()\n",
        "df_stock['날짜'] = pd.to_datetime(df_stock['날짜']).dt.normalize()\n",
        "\n",
        "# 날짜 기준으로 두 데이터 내부 조인\n",
        "df_merged = pd.merge(\n",
        "    df_stock,\n",
        "    daily_sentiment,\n",
        "    on='날짜',\n",
        "    how='inner',\n",
        "    suffixes=('_stock', '_sentiment')\n",
        ")\n",
        "\n",
        "# 날짜 컬럼 정리 (날짜 겹침)\n",
        "if '날짜_sentiment' in df_merged.columns:\n",
        "    df_merged.drop(columns=['날짜_sentiment'], inplace=True)\n",
        "\n",
        "if '날짜_stock' in df_merged.columns:\n",
        "    df_merged.rename(columns={'날짜_stock': '날짜'}, inplace=True)\n",
        "\n",
        "if 'avg_sentiment' in df_merged.columns: # 컬럼명 변경\n",
        "    df_merged.rename(columns={'avg_sentiment': '감성점수'}, inplace=True)\n",
        "\n",
        "df_merged['감성점수'] = df_merged['감성점수'].fillna(0) # 결측값 0으로 채우기\n",
        "\n",
        "df_merged = df_merged.sort_values('날짜')\n",
        "df_merged['변동률(%)'] = df_merged['변동률(%)'].fillna(0)\n"
      ]
    },
    {
      "cell_type": "code",
      "execution_count": 8,
      "metadata": {
        "id": "52UV64KawuTE"
      },
      "outputs": [
        {
          "name": "stdout",
          "output_type": "stream",
          "text": [
            "          날짜     종가       거래량  변동률(%)  상승 여부  감성점수\n",
            "0 2023-03-02  60800  13095682    0.00      0  0.55\n",
            "1 2023-03-03  60500  10711405   -0.49      0  0.27\n",
            "2 2023-03-06  61500  13630602    1.65      1  0.50\n",
            "3 2023-03-07  60700  11473280   -1.30      0  0.16\n",
            "4 2023-03-08  60300  14161857   -0.66      0 -0.01\n"
          ]
        }
      ],
      "source": [
        "df_merged['감성점수'] = df_merged['감성점수'].round(2)\n",
        "print(df_merged.head())\n",
        "\n",
        "df_merged.to_csv('data_preprocessing.csv', index=False)\n"
      ]
    }
  ],
  "metadata": {
    "colab": {
      "authorship_tag": "ABX9TyPAdfFek4a2dvxxTBv4fLdo",
      "provenance": []
    },
    "kernelspec": {
      "display_name": "Python 3",
      "name": "python3"
    },
    "language_info": {
      "codemirror_mode": {
        "name": "ipython",
        "version": 3
      },
      "file_extension": ".py",
      "mimetype": "text/x-python",
      "name": "python",
      "nbconvert_exporter": "python",
      "pygments_lexer": "ipython3",
      "version": "3.12.8"
    }
  },
  "nbformat": 4,
  "nbformat_minor": 0
}
