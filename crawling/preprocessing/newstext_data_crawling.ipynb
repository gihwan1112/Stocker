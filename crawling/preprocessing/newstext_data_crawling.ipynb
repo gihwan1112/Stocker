{
 "cells": [
  {
   "cell_type": "code",
   "execution_count": 1,
   "id": "925e37b6",
   "metadata": {},
   "outputs": [],
   "source": [
    "import requests\n",
    "from bs4 import BeautifulSoup\n",
    "import pandas as pd\n",
    "from datetime import datetime, timedelta\n",
    "import time"
   ]
  },
  {
   "cell_type": "code",
   "execution_count": null,
   "id": "7fbaca85",
   "metadata": {},
   "outputs": [
    {
     "name": "stdout",
     "output_type": "stream",
     "text": [
      "요청 URL: https://search.daum.net/search?w=news&cluster=n&DA=STC&enc=utf8&spacing=0&q=삼성전자&sort=accuracy&p=0&period=u&sd=20230301000000&ed=20230301235959\n",
      "2023-03-01 1 페이지 수집 완료\n",
      "요청 URL: https://search.daum.net/search?w=news&cluster=n&DA=STC&enc=utf8&spacing=0&q=삼성전자&sort=accuracy&p=1&period=u&sd=20230301000000&ed=20230301235959\n",
      "2023-03-01 2 페이지 수집 완료\n",
      "요청 URL: https://search.daum.net/search?w=news&cluster=n&DA=STC&enc=utf8&spacing=0&q=삼성전자&sort=accuracy&p=2&period=u&sd=20230301000000&ed=20230301235959\n",
      "2023-03-01 3 페이지 수집 완료\n",
      "요청 URL: https://search.daum.net/search?w=news&cluster=n&DA=STC&enc=utf8&spacing=0&q=삼성전자&sort=accuracy&p=3&period=u&sd=20230301000000&ed=20230301235959\n",
      "2023-03-01 4 페이지 수집 완료\n",
      "요청 URL: https://search.daum.net/search?w=news&cluster=n&DA=STC&enc=utf8&spacing=0&q=삼성전자&sort=accuracy&p=4&period=u&sd=20230301000000&ed=20230301235959\n",
      "2023-03-01 5 페이지 수집 완료\n",
      "2023-03-01 기사 수집 완료\n",
      "요청 URL: https://search.daum.net/search?w=news&cluster=n&DA=STC&enc=utf8&spacing=0&q=삼성전자&sort=accuracy&p=0&period=u&sd=20230302000000&ed=20230302235959\n",
      "2023-03-02 1 페이지 수집 완료\n",
      "요청 URL: https://search.daum.net/search?w=news&cluster=n&DA=STC&enc=utf8&spacing=0&q=삼성전자&sort=accuracy&p=1&period=u&sd=20230302000000&ed=20230302235959\n",
      "2023-03-02 2 페이지 수집 완료\n",
      "요청 URL: https://search.daum.net/search?w=news&cluster=n&DA=STC&enc=utf8&spacing=0&q=삼성전자&sort=accuracy&p=2&period=u&sd=20230302000000&ed=20230302235959\n",
      "2023-03-02 3 페이지 수집 완료\n",
      "요청 URL: https://search.daum.net/search?w=news&cluster=n&DA=STC&enc=utf8&spacing=0&q=삼성전자&sort=accuracy&p=3&period=u&sd=20230302000000&ed=20230302235959\n",
      "2023-03-02 4 페이지 수집 완료\n",
      "요청 URL: https://search.daum.net/search?w=news&cluster=n&DA=STC&enc=utf8&spacing=0&q=삼성전자&sort=accuracy&p=4&period=u&sd=20230302000000&ed=20230302235959\n",
      "2023-03-02 5 페이지 수집 완료\n",
      "2023-03-02 기사 수집 완료\n",
      "요청 URL: https://search.daum.net/search?w=news&cluster=n&DA=STC&enc=utf8&spacing=0&q=삼성전자&sort=accuracy&p=0&period=u&sd=20230303000000&ed=20230303235959\n",
      "2023-03-03 1 페이지 수집 완료\n",
      "요청 URL: https://search.daum.net/search?w=news&cluster=n&DA=STC&enc=utf8&spacing=0&q=삼성전자&sort=accuracy&p=1&period=u&sd=20230303000000&ed=20230303235959\n",
      "2023-03-03 2 페이지 수집 완료\n",
      "요청 URL: https://search.daum.net/search?w=news&cluster=n&DA=STC&enc=utf8&spacing=0&q=삼성전자&sort=accuracy&p=2&period=u&sd=20230303000000&ed=20230303235959\n",
      "2023-03-03 3 페이지 수집 완료\n",
      "요청 URL: https://search.daum.net/search?w=news&cluster=n&DA=STC&enc=utf8&spacing=0&q=삼성전자&sort=accuracy&p=3&period=u&sd=20230303000000&ed=20230303235959\n",
      "2023-03-03 4 페이지 수집 완료\n",
      "요청 URL: https://search.daum.net/search?w=news&cluster=n&DA=STC&enc=utf8&spacing=0&q=삼성전자&sort=accuracy&p=4&period=u&sd=20230303000000&ed=20230303235959\n",
      "2023-03-03 5 페이지 수집 완료\n",
      "2023-03-03 기사 수집 완료\n",
      "CSV 저장됨.\n"
     ]
    }
   ],
   "source": [
    "# 검색 키워드 및 날짜 범위\n",
    "keyword = '삼성전자'\n",
    "start_date = datetime.strptime('2023-03-01', '%Y-%m-%d')\n",
    "end_date = datetime.strptime('2023-03-03', '%Y-%m-%d')\n",
    "\n",
    "# 결과 저장 리스트\n",
    "data = []\n",
    "\n",
    "# 헤더 설정\n",
    "headers = {\n",
    "    'User-Agent': 'Mozilla/5.0 (Windows NT 10.0; Win64; x64) AppleWebKit/537.36 (KHTML, like Gecko) Chrome/123.0.0.0 Safari/537.36'\n",
    "}\n",
    "\n",
    "# 날짜 포맷 지정\n",
    "date = start_date\n",
    "while date <= end_date:\n",
    "    start_str = date.strftime('%Y%m%d') + '000000'\n",
    "    end_str = date.strftime('%Y%m%d') + '235959'\n",
    "\n",
    "    # 페이지 루프\n",
    "    for page in range(0, 5):  # 최대 5페이지까지 크롤링\n",
    "\n",
    "        url = f\"https://search.daum.net/search?w=news&cluster=n&DA=STC&enc=utf8&spacing=0&q={keyword}&sort=accuracy&p={page}&period=u&sd={start_str}&ed={end_str}\"\n",
    "        print(f\"요청 URL: {url}\")\n",
    "        res = requests.get(url, headers=headers)\n",
    "        if res.status_code != 200:\n",
    "            print(f\"{start_date} 페이지 {page} 요청 실패: {res.status_code}\")\n",
    "            continue\n",
    "\n",
    "        soup = BeautifulSoup(res.text, 'html.parser')\n",
    "        articles = soup.select('div.item-bundle-mid div.item-title a')\n",
    "\n",
    "        for article in articles:\n",
    "            title = article.text.strip()\n",
    "\n",
    "            data.append({\n",
    "                '날짜': date.strftime('%Y-%m-%d'),\n",
    "                '뉴스제목': title\n",
    "            \n",
    "            })\n",
    "\n",
    "            time.sleep(1)\n",
    "        \n",
    "        print(f\"{date.strftime('%Y-%m-%d')} {page + 1} 페이지 수집 완료\")\n",
    "\n",
    "\n",
    "\n",
    "    date += timedelta(days=1)\n",
    "\n",
    "\n",
    "# DataFrame으로 변환 및 저장\n",
    "df = pd.DataFrame(data)\n",
    "df.to_csv('daum_news_samsung_20230301_20240229.csv', index=False, encoding='utf-8-sig')\n",
    "print(\"CSV 저장됨.\")\n"
   ]
  },
  {
   "cell_type": "code",
   "execution_count": 10,
   "id": "5596a4ed",
   "metadata": {},
   "outputs": [
    {
     "name": "stdout",
     "output_type": "stream",
     "text": [
      "             날짜                                      뉴스제목\n",
      "0    2023-03-01           ‘반도체의 봄’ 언제 오나, 삼성전자 1·2월 적자 3조\n",
      "1    2023-03-01         ‘갤럭시’→‘삼성’ 일본서 8년 만에 제 이름 찾는 삼성전자\n",
      "2    2023-03-01  삼성전자, 중저가 OLED TV 3종 상반기 추가 출시…점유율 확보 속도\n",
      "3    2023-03-01              삼성전자·수도권대기환경청, 미세먼지 저감 협약 체결\n",
      "4    2023-03-01             지난달 국내증시 거래대금 1위는 삼성전자…SM은 4위\n",
      "..          ...                                       ...\n",
      "145  2023-03-03    삼성전자, 지난해 4분기 D램 매출 25%↓… 점유율은 45%로 확대\n",
      "146  2023-03-03          \"삼성전자 저점매수 전략 유효···하반기 회복 강도 중요\"\n",
      "147  2023-03-03      “8만전자 간다더니”...삼전, 외국인 주춤하자 6만전자 ‘흔들’\n",
      "148  2023-03-03                MWC2023에 공개된 삼성전자 폴더블 스마트폰\n",
      "149  2023-03-03         \"지난해 4분기 삼성전자 D램 매출 25%↓…점유율은 상승\"\n",
      "\n",
      "[150 rows x 2 columns]\n"
     ]
    }
   ],
   "source": [
    "print(df)"
   ]
  }
 ],
 "metadata": {
  "kernelspec": {
   "display_name": "Python 3",
   "language": "python",
   "name": "python3"
  },
  "language_info": {
   "codemirror_mode": {
    "name": "ipython",
    "version": 3
   },
   "file_extension": ".py",
   "mimetype": "text/x-python",
   "name": "python",
   "nbconvert_exporter": "python",
   "pygments_lexer": "ipython3",
   "version": "3.12.8"
  }
 },
 "nbformat": 4,
 "nbformat_minor": 5
}
